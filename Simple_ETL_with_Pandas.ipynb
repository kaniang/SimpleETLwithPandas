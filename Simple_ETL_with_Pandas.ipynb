{
  "nbformat": 4,
  "nbformat_minor": 0,
  "metadata": {
    "colab": {
      "provenance": []
    },
    "kernelspec": {
      "name": "python3",
      "display_name": "Python 3"
    },
    "language_info": {
      "name": "python"
    }
  },
  "cells": [
    {
      "cell_type": "code",
      "source": [
        "# This ipynb file was created based on the work on a mini project from dqlab"
      ],
      "metadata": {
        "id": "3z6RU0WBGzd8"
      },
      "execution_count": 1,
      "outputs": []
    },
    {
      "cell_type": "markdown",
      "source": [
        "#Extract"
      ],
      "metadata": {
        "id": "WWhZo5iYM2aY"
      }
    },
    {
      "cell_type": "code",
      "execution_count": 8,
      "metadata": {
        "id": "654PkUjrYOCE"
      },
      "outputs": [],
      "source": [
        "import pandas as pd\n",
        "df_participant = pd.read_csv('https://storage.googleapis.com/dqlab-dataset/dqthon-participants.csv')"
      ]
    },
    {
      "cell_type": "code",
      "source": [
        "df_participant"
      ],
      "metadata": {
        "colab": {
          "base_uri": "https://localhost:8080/",
          "height": 676
        },
        "id": "eTp9KiE4He06",
        "outputId": "5037d44d-b6b7-4baf-867e-caed60536210"
      },
      "execution_count": 11,
      "outputs": [
        {
          "output_type": "execute_result",
          "data": {
            "text/plain": [
              "                            participant_id first_name   last_name  \\\n",
              "0     bd9b6f88-b84f-4c4d-90f8-b67fe2f1a29a      Citra  Nurdiyanti   \n",
              "1     7dfe3391-6f40-47b6-b4db-0c76ebaf5fc3       Aris    Setiawan   \n",
              "2     19582d7f-b824-4fe5-a517-d5bf573fc768   Cornelia   Handayani   \n",
              "3     aeb6d817-25f3-4867-8a74-8d92e0a0f633      Soleh      Rajasa   \n",
              "4     1fdabdd9-5444-4c97-87b2-fe8833ad0d27       Vivi      Astuti   \n",
              "...                                    ...        ...         ...   \n",
              "4995  5f084245-58cb-4360-8cff-112f06f7214e      Mitra    Latupono   \n",
              "4996  fc6e142a-3f66-4330-9975-8c1dc7f9bb03      Indah   Rahmawati   \n",
              "4997  4521ff9f-4aec-401b-84aa-a4e6fc6549a4      Irsad    Najmudin   \n",
              "4998  1c91596e-427c-44a7-b7d0-974f44e18381      Carla    Nasyidah   \n",
              "4999  5d682e84-bcb5-43e9-8ce0-615364f5376a    Darmana     Maryadi   \n",
              "\n",
              "       birth_date                                            address  \\\n",
              "0     05 Feb 1991           Gg. Monginsidi No. 08\\nMedan, Aceh 80734   \n",
              "1     11 Jan 1993     Gg. Rajawali Timur No. 7\\nPrabumulih, MA 09434   \n",
              "2     31 Jul 1993             Jalan Kebonjati No. 0\\nAmbon, SS 57739   \n",
              "3     04 Nov 1991    Jl. Yos Sudarso No. 109\\nLubuklinggau, SR 76156   \n",
              "4     22 Jan 2003  Jalan Gardujati No. 53\\nKediri, Sulawesi Tenga...   \n",
              "...           ...                                                ...   \n",
              "4995  27 Apr 2000            Jl. Monginsidi No. 5\\nCirebon, BB 50268   \n",
              "4996  06 Mar 1996              Gang Joyoboyo No. 73\\nBogor, BT 57434   \n",
              "4997  14 Feb 2003   Jalan PHH. Mustofa No. 0\\nTanjungbalai, MU 95312   \n",
              "4998  22 Aug 1994  Jl. H.J Maemunah No. 955\\nManado, Kepulauan Ba...   \n",
              "4999  09 Feb 2002  Jalan Erlangga No. 76\\nBontang, Sulawesi Tengg...   \n",
              "\n",
              "             phone_number      country                            institute  \\\n",
              "0         (0151) 081 2706      Georgia                 UD Prakasa Mandasari   \n",
              "1      +62 (036) 461 7027  Korea Utara               Universitas Diponegoro   \n",
              "2            089 833 6695       Komoro             UD Hardiansyah Puspasari   \n",
              "3      +62 (418) 329-4756      Eritrea            Perum Tampubolon Yuliarti   \n",
              "4              0812511835     Aljazair               PT Hardiansyah Rahimah   \n",
              "...                   ...          ...                                  ...   \n",
              "4995   +62 (050) 795-8398     Hongaria  Institut Teknologi Sepuluh Nopember   \n",
              "4996  +62 (0443) 963 0055     Norwegia               CV Safitri Hastuti Tbk   \n",
              "4997  +62 (0408) 216-7689        Ghana   Universitas Katolik Widya Manadala   \n",
              "4998  +62 (0751) 380 3352       Gambia             CV Permadi (Persero) Tbk   \n",
              "4999   +62 (066) 414 8791    Singapura             Perum Laksita Kuswandari   \n",
              "\n",
              "                          occupation  register_time  \n",
              "0     Business Intelligence Engineer   1.617634e+09  \n",
              "1                  Frontend Engineer   1.617634e+09  \n",
              "2                   Business Analyst   1.617634e+09  \n",
              "3                    DevOps Engineer   1.617634e+09  \n",
              "4                       Data Analyst   1.617634e+09  \n",
              "...                              ...            ...  \n",
              "4995  Business Intelligence Engineer   1.617634e+09  \n",
              "4996                   Data Engineer   1.617634e+09  \n",
              "4997              Fullstack Engineer   1.617634e+09  \n",
              "4998              Fullstack Engineer   1.617634e+09  \n",
              "4999                 DevOps Engineer   1.617634e+09  \n",
              "\n",
              "[5000 rows x 10 columns]"
            ],
            "text/html": [
              "\n",
              "  <div id=\"df-b526ebd2-c580-42b6-8cf5-f553b14c7110\">\n",
              "    <div class=\"colab-df-container\">\n",
              "      <div>\n",
              "<style scoped>\n",
              "    .dataframe tbody tr th:only-of-type {\n",
              "        vertical-align: middle;\n",
              "    }\n",
              "\n",
              "    .dataframe tbody tr th {\n",
              "        vertical-align: top;\n",
              "    }\n",
              "\n",
              "    .dataframe thead th {\n",
              "        text-align: right;\n",
              "    }\n",
              "</style>\n",
              "<table border=\"1\" class=\"dataframe\">\n",
              "  <thead>\n",
              "    <tr style=\"text-align: right;\">\n",
              "      <th></th>\n",
              "      <th>participant_id</th>\n",
              "      <th>first_name</th>\n",
              "      <th>last_name</th>\n",
              "      <th>birth_date</th>\n",
              "      <th>address</th>\n",
              "      <th>phone_number</th>\n",
              "      <th>country</th>\n",
              "      <th>institute</th>\n",
              "      <th>occupation</th>\n",
              "      <th>register_time</th>\n",
              "    </tr>\n",
              "  </thead>\n",
              "  <tbody>\n",
              "    <tr>\n",
              "      <th>0</th>\n",
              "      <td>bd9b6f88-b84f-4c4d-90f8-b67fe2f1a29a</td>\n",
              "      <td>Citra</td>\n",
              "      <td>Nurdiyanti</td>\n",
              "      <td>05 Feb 1991</td>\n",
              "      <td>Gg. Monginsidi No. 08\\nMedan, Aceh 80734</td>\n",
              "      <td>(0151) 081 2706</td>\n",
              "      <td>Georgia</td>\n",
              "      <td>UD Prakasa Mandasari</td>\n",
              "      <td>Business Intelligence Engineer</td>\n",
              "      <td>1.617634e+09</td>\n",
              "    </tr>\n",
              "    <tr>\n",
              "      <th>1</th>\n",
              "      <td>7dfe3391-6f40-47b6-b4db-0c76ebaf5fc3</td>\n",
              "      <td>Aris</td>\n",
              "      <td>Setiawan</td>\n",
              "      <td>11 Jan 1993</td>\n",
              "      <td>Gg. Rajawali Timur No. 7\\nPrabumulih, MA 09434</td>\n",
              "      <td>+62 (036) 461 7027</td>\n",
              "      <td>Korea Utara</td>\n",
              "      <td>Universitas Diponegoro</td>\n",
              "      <td>Frontend Engineer</td>\n",
              "      <td>1.617634e+09</td>\n",
              "    </tr>\n",
              "    <tr>\n",
              "      <th>2</th>\n",
              "      <td>19582d7f-b824-4fe5-a517-d5bf573fc768</td>\n",
              "      <td>Cornelia</td>\n",
              "      <td>Handayani</td>\n",
              "      <td>31 Jul 1993</td>\n",
              "      <td>Jalan Kebonjati No. 0\\nAmbon, SS 57739</td>\n",
              "      <td>089 833 6695</td>\n",
              "      <td>Komoro</td>\n",
              "      <td>UD Hardiansyah Puspasari</td>\n",
              "      <td>Business Analyst</td>\n",
              "      <td>1.617634e+09</td>\n",
              "    </tr>\n",
              "    <tr>\n",
              "      <th>3</th>\n",
              "      <td>aeb6d817-25f3-4867-8a74-8d92e0a0f633</td>\n",
              "      <td>Soleh</td>\n",
              "      <td>Rajasa</td>\n",
              "      <td>04 Nov 1991</td>\n",
              "      <td>Jl. Yos Sudarso No. 109\\nLubuklinggau, SR 76156</td>\n",
              "      <td>+62 (418) 329-4756</td>\n",
              "      <td>Eritrea</td>\n",
              "      <td>Perum Tampubolon Yuliarti</td>\n",
              "      <td>DevOps Engineer</td>\n",
              "      <td>1.617634e+09</td>\n",
              "    </tr>\n",
              "    <tr>\n",
              "      <th>4</th>\n",
              "      <td>1fdabdd9-5444-4c97-87b2-fe8833ad0d27</td>\n",
              "      <td>Vivi</td>\n",
              "      <td>Astuti</td>\n",
              "      <td>22 Jan 2003</td>\n",
              "      <td>Jalan Gardujati No. 53\\nKediri, Sulawesi Tenga...</td>\n",
              "      <td>0812511835</td>\n",
              "      <td>Aljazair</td>\n",
              "      <td>PT Hardiansyah Rahimah</td>\n",
              "      <td>Data Analyst</td>\n",
              "      <td>1.617634e+09</td>\n",
              "    </tr>\n",
              "    <tr>\n",
              "      <th>...</th>\n",
              "      <td>...</td>\n",
              "      <td>...</td>\n",
              "      <td>...</td>\n",
              "      <td>...</td>\n",
              "      <td>...</td>\n",
              "      <td>...</td>\n",
              "      <td>...</td>\n",
              "      <td>...</td>\n",
              "      <td>...</td>\n",
              "      <td>...</td>\n",
              "    </tr>\n",
              "    <tr>\n",
              "      <th>4995</th>\n",
              "      <td>5f084245-58cb-4360-8cff-112f06f7214e</td>\n",
              "      <td>Mitra</td>\n",
              "      <td>Latupono</td>\n",
              "      <td>27 Apr 2000</td>\n",
              "      <td>Jl. Monginsidi No. 5\\nCirebon, BB 50268</td>\n",
              "      <td>+62 (050) 795-8398</td>\n",
              "      <td>Hongaria</td>\n",
              "      <td>Institut Teknologi Sepuluh Nopember</td>\n",
              "      <td>Business Intelligence Engineer</td>\n",
              "      <td>1.617634e+09</td>\n",
              "    </tr>\n",
              "    <tr>\n",
              "      <th>4996</th>\n",
              "      <td>fc6e142a-3f66-4330-9975-8c1dc7f9bb03</td>\n",
              "      <td>Indah</td>\n",
              "      <td>Rahmawati</td>\n",
              "      <td>06 Mar 1996</td>\n",
              "      <td>Gang Joyoboyo No. 73\\nBogor, BT 57434</td>\n",
              "      <td>+62 (0443) 963 0055</td>\n",
              "      <td>Norwegia</td>\n",
              "      <td>CV Safitri Hastuti Tbk</td>\n",
              "      <td>Data Engineer</td>\n",
              "      <td>1.617634e+09</td>\n",
              "    </tr>\n",
              "    <tr>\n",
              "      <th>4997</th>\n",
              "      <td>4521ff9f-4aec-401b-84aa-a4e6fc6549a4</td>\n",
              "      <td>Irsad</td>\n",
              "      <td>Najmudin</td>\n",
              "      <td>14 Feb 2003</td>\n",
              "      <td>Jalan PHH. Mustofa No. 0\\nTanjungbalai, MU 95312</td>\n",
              "      <td>+62 (0408) 216-7689</td>\n",
              "      <td>Ghana</td>\n",
              "      <td>Universitas Katolik Widya Manadala</td>\n",
              "      <td>Fullstack Engineer</td>\n",
              "      <td>1.617634e+09</td>\n",
              "    </tr>\n",
              "    <tr>\n",
              "      <th>4998</th>\n",
              "      <td>1c91596e-427c-44a7-b7d0-974f44e18381</td>\n",
              "      <td>Carla</td>\n",
              "      <td>Nasyidah</td>\n",
              "      <td>22 Aug 1994</td>\n",
              "      <td>Jl. H.J Maemunah No. 955\\nManado, Kepulauan Ba...</td>\n",
              "      <td>+62 (0751) 380 3352</td>\n",
              "      <td>Gambia</td>\n",
              "      <td>CV Permadi (Persero) Tbk</td>\n",
              "      <td>Fullstack Engineer</td>\n",
              "      <td>1.617634e+09</td>\n",
              "    </tr>\n",
              "    <tr>\n",
              "      <th>4999</th>\n",
              "      <td>5d682e84-bcb5-43e9-8ce0-615364f5376a</td>\n",
              "      <td>Darmana</td>\n",
              "      <td>Maryadi</td>\n",
              "      <td>09 Feb 2002</td>\n",
              "      <td>Jalan Erlangga No. 76\\nBontang, Sulawesi Tengg...</td>\n",
              "      <td>+62 (066) 414 8791</td>\n",
              "      <td>Singapura</td>\n",
              "      <td>Perum Laksita Kuswandari</td>\n",
              "      <td>DevOps Engineer</td>\n",
              "      <td>1.617634e+09</td>\n",
              "    </tr>\n",
              "  </tbody>\n",
              "</table>\n",
              "<p>5000 rows × 10 columns</p>\n",
              "</div>\n",
              "      <button class=\"colab-df-convert\" onclick=\"convertToInteractive('df-b526ebd2-c580-42b6-8cf5-f553b14c7110')\"\n",
              "              title=\"Convert this dataframe to an interactive table.\"\n",
              "              style=\"display:none;\">\n",
              "        \n",
              "  <svg xmlns=\"http://www.w3.org/2000/svg\" height=\"24px\"viewBox=\"0 0 24 24\"\n",
              "       width=\"24px\">\n",
              "    <path d=\"M0 0h24v24H0V0z\" fill=\"none\"/>\n",
              "    <path d=\"M18.56 5.44l.94 2.06.94-2.06 2.06-.94-2.06-.94-.94-2.06-.94 2.06-2.06.94zm-11 1L8.5 8.5l.94-2.06 2.06-.94-2.06-.94L8.5 2.5l-.94 2.06-2.06.94zm10 10l.94 2.06.94-2.06 2.06-.94-2.06-.94-.94-2.06-.94 2.06-2.06.94z\"/><path d=\"M17.41 7.96l-1.37-1.37c-.4-.4-.92-.59-1.43-.59-.52 0-1.04.2-1.43.59L10.3 9.45l-7.72 7.72c-.78.78-.78 2.05 0 2.83L4 21.41c.39.39.9.59 1.41.59.51 0 1.02-.2 1.41-.59l7.78-7.78 2.81-2.81c.8-.78.8-2.07 0-2.86zM5.41 20L4 18.59l7.72-7.72 1.47 1.35L5.41 20z\"/>\n",
              "  </svg>\n",
              "      </button>\n",
              "      \n",
              "  <style>\n",
              "    .colab-df-container {\n",
              "      display:flex;\n",
              "      flex-wrap:wrap;\n",
              "      gap: 12px;\n",
              "    }\n",
              "\n",
              "    .colab-df-convert {\n",
              "      background-color: #E8F0FE;\n",
              "      border: none;\n",
              "      border-radius: 50%;\n",
              "      cursor: pointer;\n",
              "      display: none;\n",
              "      fill: #1967D2;\n",
              "      height: 32px;\n",
              "      padding: 0 0 0 0;\n",
              "      width: 32px;\n",
              "    }\n",
              "\n",
              "    .colab-df-convert:hover {\n",
              "      background-color: #E2EBFA;\n",
              "      box-shadow: 0px 1px 2px rgba(60, 64, 67, 0.3), 0px 1px 3px 1px rgba(60, 64, 67, 0.15);\n",
              "      fill: #174EA6;\n",
              "    }\n",
              "\n",
              "    [theme=dark] .colab-df-convert {\n",
              "      background-color: #3B4455;\n",
              "      fill: #D2E3FC;\n",
              "    }\n",
              "\n",
              "    [theme=dark] .colab-df-convert:hover {\n",
              "      background-color: #434B5C;\n",
              "      box-shadow: 0px 1px 3px 1px rgba(0, 0, 0, 0.15);\n",
              "      filter: drop-shadow(0px 1px 2px rgba(0, 0, 0, 0.3));\n",
              "      fill: #FFFFFF;\n",
              "    }\n",
              "  </style>\n",
              "\n",
              "      <script>\n",
              "        const buttonEl =\n",
              "          document.querySelector('#df-b526ebd2-c580-42b6-8cf5-f553b14c7110 button.colab-df-convert');\n",
              "        buttonEl.style.display =\n",
              "          google.colab.kernel.accessAllowed ? 'block' : 'none';\n",
              "\n",
              "        async function convertToInteractive(key) {\n",
              "          const element = document.querySelector('#df-b526ebd2-c580-42b6-8cf5-f553b14c7110');\n",
              "          const dataTable =\n",
              "            await google.colab.kernel.invokeFunction('convertToInteractive',\n",
              "                                                     [key], {});\n",
              "          if (!dataTable) return;\n",
              "\n",
              "          const docLinkHtml = 'Like what you see? Visit the ' +\n",
              "            '<a target=\"_blank\" href=https://colab.research.google.com/notebooks/data_table.ipynb>data table notebook</a>'\n",
              "            + ' to learn more about interactive tables.';\n",
              "          element.innerHTML = '';\n",
              "          dataTable['output_type'] = 'display_data';\n",
              "          await google.colab.output.renderOutput(dataTable, element);\n",
              "          const docLink = document.createElement('div');\n",
              "          docLink.innerHTML = docLinkHtml;\n",
              "          element.appendChild(docLink);\n",
              "        }\n",
              "      </script>\n",
              "    </div>\n",
              "  </div>\n",
              "  "
            ]
          },
          "metadata": {},
          "execution_count": 11
        }
      ]
    },
    {
      "cell_type": "code",
      "source": [
        "df_participant.info()"
      ],
      "metadata": {
        "colab": {
          "base_uri": "https://localhost:8080/"
        },
        "id": "vXiIUY1Jktps",
        "outputId": "1f053fe1-10d0-4ce7-eac5-d6ef503865c3"
      },
      "execution_count": 12,
      "outputs": [
        {
          "output_type": "stream",
          "name": "stdout",
          "text": [
            "<class 'pandas.core.frame.DataFrame'>\n",
            "RangeIndex: 5000 entries, 0 to 4999\n",
            "Data columns (total 10 columns):\n",
            " #   Column          Non-Null Count  Dtype  \n",
            "---  ------          --------------  -----  \n",
            " 0   participant_id  5000 non-null   object \n",
            " 1   first_name      5000 non-null   object \n",
            " 2   last_name       5000 non-null   object \n",
            " 3   birth_date      5000 non-null   object \n",
            " 4   address         5000 non-null   object \n",
            " 5   phone_number    5000 non-null   object \n",
            " 6   country         5000 non-null   object \n",
            " 7   institute       5000 non-null   object \n",
            " 8   occupation      5000 non-null   object \n",
            " 9   register_time   5000 non-null   float64\n",
            "dtypes: float64(1), object(9)\n",
            "memory usage: 390.8+ KB\n"
          ]
        }
      ]
    },
    {
      "cell_type": "markdown",
      "source": [
        "#Transform"
      ],
      "metadata": {
        "id": "x3uEGXHDMyNJ"
      }
    },
    {
      "cell_type": "markdown",
      "source": [
        "##Transform Part I - Postal Code\n",
        "There was a request from the logistics team that they needed the postal code of the participants to make sending trophies easier and faster. Therefore, create a new column named postal_code which contains information about the postal code taken from the participant's address (address column).\n",
        "\n",
        "Note:\n",
        "If the regex entered cannot capture the pattern from the address column value, it will generate NaN."
      ],
      "metadata": {
        "id": "Hw_M9-A-kn2H"
      }
    },
    {
      "cell_type": "code",
      "source": [
        "df_participant['address']"
      ],
      "metadata": {
        "colab": {
          "base_uri": "https://localhost:8080/"
        },
        "id": "OM0zvdKtYPuL",
        "outputId": "6b483ac0-f617-46de-92a6-048e5bebacba"
      },
      "execution_count": 13,
      "outputs": [
        {
          "output_type": "execute_result",
          "data": {
            "text/plain": [
              "0                Gg. Monginsidi No. 08\\nMedan, Aceh 80734\n",
              "1          Gg. Rajawali Timur No. 7\\nPrabumulih, MA 09434\n",
              "2                  Jalan Kebonjati No. 0\\nAmbon, SS 57739\n",
              "3         Jl. Yos Sudarso No. 109\\nLubuklinggau, SR 76156\n",
              "4       Jalan Gardujati No. 53\\nKediri, Sulawesi Tenga...\n",
              "                              ...                        \n",
              "4995              Jl. Monginsidi No. 5\\nCirebon, BB 50268\n",
              "4996                Gang Joyoboyo No. 73\\nBogor, BT 57434\n",
              "4997     Jalan PHH. Mustofa No. 0\\nTanjungbalai, MU 95312\n",
              "4998    Jl. H.J Maemunah No. 955\\nManado, Kepulauan Ba...\n",
              "4999    Jalan Erlangga No. 76\\nBontang, Sulawesi Tengg...\n",
              "Name: address, Length: 5000, dtype: object"
            ]
          },
          "metadata": {},
          "execution_count": 13
        }
      ]
    },
    {
      "cell_type": "code",
      "source": [
        "'''\n",
        "(\\d+) : This is a capture group that matches one or more digits (\\d+). It will capture text consisting of one or more digits that are at the end of the string.\n",
        "$     : This is the anchor that matches the end of the string. This indicates that we want to match text that is at the end of the string.\n",
        "'''\n",
        "df_participant['postal_code'] = df_participant['address'].str.extract(r'(\\d+)$')\n",
        "df_participant['postal_code']"
      ],
      "metadata": {
        "colab": {
          "base_uri": "https://localhost:8080/"
        },
        "id": "XAO-ZSCUYPwD",
        "outputId": "4f517e19-fa49-478b-d193-f72e35d4577c"
      },
      "execution_count": 15,
      "outputs": [
        {
          "output_type": "execute_result",
          "data": {
            "text/plain": [
              "0       80734\n",
              "1       09434\n",
              "2       57739\n",
              "3       76156\n",
              "4       70074\n",
              "        ...  \n",
              "4995    50268\n",
              "4996    57434\n",
              "4997    95312\n",
              "4998    80657\n",
              "4999    41134\n",
              "Name: postal_code, Length: 5000, dtype: object"
            ]
          },
          "metadata": {},
          "execution_count": 15
        }
      ]
    },
    {
      "cell_type": "markdown",
      "source": [
        "##Transform Part II - City\n",
        "\n",
        "To provide this information, the city is obtained from the address column. It is assumed that the city is a set of characters that appear after the street number followed by \\n (newline character)"
      ],
      "metadata": {
        "id": "jyIC-J_xk8I5"
      }
    },
    {
      "cell_type": "code",
      "source": [
        "'''uses the regex pattern positive lookbehind ((?<=\\n)) to match the newline character before the city text,\n",
        "and positive lookahead ((?=,)) to match the comma character after the city text'''\n",
        "\n",
        "df_participant['city'] = df_participant['address'].str.extract(r'(?<=\\n)(\\w.+)(?=,)')\n",
        "df_participant['city']"
      ],
      "metadata": {
        "colab": {
          "base_uri": "https://localhost:8080/"
        },
        "id": "m6J58CuEYPzw",
        "outputId": "2e840449-9703-4427-d9c7-6aac90859139"
      },
      "execution_count": 16,
      "outputs": [
        {
          "output_type": "execute_result",
          "data": {
            "text/plain": [
              "0              Medan\n",
              "1         Prabumulih\n",
              "2              Ambon\n",
              "3       Lubuklinggau\n",
              "4             Kediri\n",
              "            ...     \n",
              "4995         Cirebon\n",
              "4996           Bogor\n",
              "4997    Tanjungbalai\n",
              "4998          Manado\n",
              "4999         Bontang\n",
              "Name: city, Length: 5000, dtype: object"
            ]
          },
          "metadata": {},
          "execution_count": 16
        }
      ]
    },
    {
      "cell_type": "markdown",
      "source": [
        "##Transform Part III - Github\n",
        "uses the github profile as a parameter to create a new field named github_profile which is the participant's github profile link.\n",
        "\n",
        "Note that the github profile is a lowercased combination of first_name and last_name."
      ],
      "metadata": {
        "id": "uhL5ik6GrpW2"
      }
    },
    {
      "cell_type": "code",
      "source": [
        "df_participant['first_name'].head()"
      ],
      "metadata": {
        "colab": {
          "base_uri": "https://localhost:8080/"
        },
        "id": "ihgx8vkirrDQ",
        "outputId": "7d2a5004-7b64-4877-efdf-42a4cd9d78a3"
      },
      "execution_count": 17,
      "outputs": [
        {
          "output_type": "execute_result",
          "data": {
            "text/plain": [
              "0       Citra\n",
              "1        Aris\n",
              "2    Cornelia\n",
              "3       Soleh\n",
              "4        Vivi\n",
              "Name: first_name, dtype: object"
            ]
          },
          "metadata": {},
          "execution_count": 17
        }
      ]
    },
    {
      "cell_type": "code",
      "source": [
        "df_participant['last_name'].head()"
      ],
      "metadata": {
        "colab": {
          "base_uri": "https://localhost:8080/"
        },
        "id": "_tMqUXzKsPxR",
        "outputId": "92282795-18a2-453a-f66e-0e2b2672dcec"
      },
      "execution_count": 18,
      "outputs": [
        {
          "output_type": "execute_result",
          "data": {
            "text/plain": [
              "0    Nurdiyanti\n",
              "1      Setiawan\n",
              "2     Handayani\n",
              "3        Rajasa\n",
              "4        Astuti\n",
              "Name: last_name, dtype: object"
            ]
          },
          "metadata": {},
          "execution_count": 18
        }
      ]
    },
    {
      "cell_type": "code",
      "source": [
        "'''\n",
        "creates a GitHub profile URL formed from the base text,\n",
        "followed by a username consisting of a combination of\n",
        "'first_name' and 'last_name' in lower case using the lower() method\n",
        "\n",
        "'''\n",
        "\n",
        "df_participant['github_profile'] = 'https://github.com/' + df_participant['first_name'].str.lower() + df_participant['last_name'].str.lower()\n",
        "df_participant['github_profile']"
      ],
      "metadata": {
        "colab": {
          "base_uri": "https://localhost:8080/"
        },
        "id": "AdlGj48HsXQx",
        "outputId": "7ed2c405-2970-4d03-96c7-7a95174cd8f8"
      },
      "execution_count": 20,
      "outputs": [
        {
          "output_type": "execute_result",
          "data": {
            "text/plain": [
              "0         https://github.com/citranurdiyanti\n",
              "1            https://github.com/arissetiawan\n",
              "2       https://github.com/corneliahandayani\n",
              "3             https://github.com/solehrajasa\n",
              "4              https://github.com/viviastuti\n",
              "                        ...                 \n",
              "4995        https://github.com/mitralatupono\n",
              "4996       https://github.com/indahrahmawati\n",
              "4997        https://github.com/irsadnajmudin\n",
              "4998        https://github.com/carlanasyidah\n",
              "4999       https://github.com/darmanamaryadi\n",
              "Name: github_profile, Length: 5000, dtype: object"
            ]
          },
          "metadata": {},
          "execution_count": 20
        }
      ]
    },
    {
      "cell_type": "markdown",
      "source": [
        "##Transform Part IV - Mobile Number\n",
        "in the 'phone_number' data set column, the mobile number has a different format. Therefore, it is necessary to clean the mobile number data so that it has the same format.\n",
        "\n",
        "notes:\n",
        "\n",
        "If the HP number prefix is the number 62 or +62 which is the Indonesian telephone code, then it is translated to 0.\n",
        "No punctuation such as opening bracket, closing bracket, dash⟶ ()-\n",
        "There is no space in the column name for the cell phone number to store the cleaning results for the cell phone number, namely cleaned_phone_number"
      ],
      "metadata": {
        "id": "-KqkDuY-ugUt"
      }
    },
    {
      "cell_type": "code",
      "source": [
        "df_participant['phone_number'].head()"
      ],
      "metadata": {
        "colab": {
          "base_uri": "https://localhost:8080/"
        },
        "id": "jHQhYRORufDt",
        "outputId": "242dd533-7570-4641-834d-93621d5642d0"
      },
      "execution_count": 21,
      "outputs": [
        {
          "output_type": "execute_result",
          "data": {
            "text/plain": [
              "0       (0151) 081 2706\n",
              "1    +62 (036) 461 7027\n",
              "2          089 833 6695\n",
              "3    +62 (418) 329-4756\n",
              "4            0812511835\n",
              "Name: phone_number, dtype: object"
            ]
          },
          "metadata": {},
          "execution_count": 21
        }
      ]
    },
    {
      "cell_type": "code",
      "source": [
        "# replaces the '+62' or '62' prefix with a '0'.\n",
        "df_participant['cleaned_phone_number'] = df_participant['phone_number'].str.replace(r'^(\\+62|62)', '0')"
      ],
      "metadata": {
        "colab": {
          "base_uri": "https://localhost:8080/"
        },
        "id": "ps3lRYIpu8sG",
        "outputId": "e50d8f99-ff07-4e1c-c9c5-150601f5aa1d"
      },
      "execution_count": 22,
      "outputs": [
        {
          "output_type": "stream",
          "name": "stderr",
          "text": [
            "<ipython-input-22-bcea65e60dc9>:1: FutureWarning: The default value of regex will change from True to False in a future version.\n",
            "  df_participant['cleaned_phone_number'] = df_participant['phone_number'].str.replace(r'^(\\+62|62)', '0')\n"
          ]
        }
      ]
    },
    {
      "cell_type": "code",
      "source": [
        "# removes the characters '(', ')', and '-' in the column\n",
        "df_participant['cleaned_phone_number'] = df_participant['cleaned_phone_number'].str.replace(r'[()-]', '')"
      ],
      "metadata": {
        "colab": {
          "base_uri": "https://localhost:8080/"
        },
        "id": "YVMdZ8b9dipv",
        "outputId": "1700dbc5-d007-4f79-f395-728a2b8481e2"
      },
      "execution_count": 23,
      "outputs": [
        {
          "output_type": "stream",
          "name": "stderr",
          "text": [
            "<ipython-input-23-5add7c8a6451>:2: FutureWarning: The default value of regex will change from True to False in a future version.\n",
            "  df_participant['cleaned_phone_number'] = df_participant['cleaned_phone_number'].str.replace(r'[()-]', '')\n"
          ]
        }
      ]
    },
    {
      "cell_type": "code",
      "source": [
        "# removes all spaces in the column\n",
        "df_participant['cleaned_phone_number'] = df_participant['cleaned_phone_number'].str.replace(r'\\s+', '')"
      ],
      "metadata": {
        "colab": {
          "base_uri": "https://localhost:8080/"
        },
        "id": "HwlQSxZQdiyw",
        "outputId": "11c2b84c-4707-4c2c-87e9-e8c1c6ccadd4"
      },
      "execution_count": 24,
      "outputs": [
        {
          "output_type": "stream",
          "name": "stderr",
          "text": [
            "<ipython-input-24-a712478d5aaf>:2: FutureWarning: The default value of regex will change from True to False in a future version.\n",
            "  df_participant['cleaned_phone_number'] = df_participant['cleaned_phone_number'].str.replace(r'\\s+', '')\n"
          ]
        }
      ]
    },
    {
      "cell_type": "code",
      "source": [
        "df_participant['cleaned_phone_number'].head()"
      ],
      "metadata": {
        "colab": {
          "base_uri": "https://localhost:8080/"
        },
        "id": "RXEkbtN9di8s",
        "outputId": "ea89884f-0bd6-4a73-d71a-8152d418ddc2"
      },
      "execution_count": 25,
      "outputs": [
        {
          "output_type": "execute_result",
          "data": {
            "text/plain": [
              "0    01510812706\n",
              "1    00364617027\n",
              "2     0898336695\n",
              "3    04183294756\n",
              "4     0812511835\n",
              "Name: cleaned_phone_number, dtype: object"
            ]
          },
          "metadata": {},
          "execution_count": 25
        }
      ]
    },
    {
      "cell_type": "markdown",
      "source": [
        "##Transform Part V - Team Name\n",
        "notes:\n",
        "\n",
        "the team name is the combined value of the first_name, last_name, country and institute columns."
      ],
      "metadata": {
        "id": "NdD1IyCAyyUI"
      }
    },
    {
      "cell_type": "code",
      "source": [
        "df_participant['country']"
      ],
      "metadata": {
        "colab": {
          "base_uri": "https://localhost:8080/"
        },
        "id": "pmK09xXVyzvS",
        "outputId": "7bfc683c-3479-4541-b4aa-d14d935d39c5"
      },
      "execution_count": 26,
      "outputs": [
        {
          "output_type": "execute_result",
          "data": {
            "text/plain": [
              "0           Georgia\n",
              "1       Korea Utara\n",
              "2            Komoro\n",
              "3           Eritrea\n",
              "4          Aljazair\n",
              "           ...     \n",
              "4995       Hongaria\n",
              "4996       Norwegia\n",
              "4997          Ghana\n",
              "4998         Gambia\n",
              "4999      Singapura\n",
              "Name: country, Length: 5000, dtype: object"
            ]
          },
          "metadata": {},
          "execution_count": 26
        }
      ]
    },
    {
      "cell_type": "code",
      "source": [
        "df_participant['institute']"
      ],
      "metadata": {
        "colab": {
          "base_uri": "https://localhost:8080/"
        },
        "id": "JWgEuuIty_7m",
        "outputId": "e96debec-c662-4b78-998a-dcc4683f5f69"
      },
      "execution_count": 27,
      "outputs": [
        {
          "output_type": "execute_result",
          "data": {
            "text/plain": [
              "0                      UD Prakasa Mandasari\n",
              "1                    Universitas Diponegoro\n",
              "2                  UD Hardiansyah Puspasari\n",
              "3                 Perum Tampubolon Yuliarti\n",
              "4                    PT Hardiansyah Rahimah\n",
              "                       ...                 \n",
              "4995    Institut Teknologi Sepuluh Nopember\n",
              "4996                 CV Safitri Hastuti Tbk\n",
              "4997     Universitas Katolik Widya Manadala\n",
              "4998               CV Permadi (Persero) Tbk\n",
              "4999               Perum Laksita Kuswandari\n",
              "Name: institute, Length: 5000, dtype: object"
            ]
          },
          "metadata": {},
          "execution_count": 27
        }
      ]
    },
    {
      "cell_type": "code",
      "source": [
        "# returns a string consisting of the name, country, and institute abbreviation based on the column values in row\n",
        "def func(col):\n",
        "    abbrev_name = \"%s%s\"%(col['first_name'][0],col['last_name'][0]) #Abbreviation of First Name and Last Name by taking the first letter\n",
        "    country = col['country']\n",
        "    abbrev_institute = '%s'%(''.join(list(map(lambda word: word[0], col['institute'].split())))) #The abbreviation of the value in the column institute\n",
        "    return \"%s-%s-%s\"%(abbrev_name,country,abbrev_institute)\n",
        "\n",
        "df_participant['team_name'] = df_participant.apply(func, axis=1)\n",
        "df_participant['team_name'].head()"
      ],
      "metadata": {
        "colab": {
          "base_uri": "https://localhost:8080/"
        },
        "id": "h3qNqTthzFhY",
        "outputId": "768dea47-0f76-4291-cfe6-24cb82098f59"
      },
      "execution_count": 28,
      "outputs": [
        {
          "output_type": "execute_result",
          "data": {
            "text/plain": [
              "0       CN-Georgia-UPM\n",
              "1    AS-Korea Utara-UD\n",
              "2        CH-Komoro-UHP\n",
              "3       SR-Eritrea-PTY\n",
              "4      VA-Aljazair-PHR\n",
              "Name: team_name, dtype: object"
            ]
          },
          "metadata": {},
          "execution_count": 28
        }
      ]
    },
    {
      "cell_type": "markdown",
      "source": [
        "##Transform Part VI - Email\n",
        "e-mail is important information but not yet available.\n",
        "format for creating an email as follows:\n",
        "\n",
        "Email formats:\n",
        "\n",
        "xxyy@aa.bb.[ac/com].[cc]\n",
        "\n",
        "Information:\n",
        "\n",
        "xx -> first name (first_name) in lowercase\n",
        "\n",
        "yy -> last name (last_name) in lowercase\n",
        "\n",
        "aa -> institution name\n",
        "\n",
        "For bb and cc values follow the value of aa. The rules:\n",
        "- If the institution is a University, then\n",
        "   bb -> the combination of the first letters of each word of the university name in lowercase\n",
        "   Then, followed by .ac indicating the academy/study institution and followed by the cc pattern\n",
        "- If the institution is not a University, then\n",
        "   bb -> the combination of the first letters of each word of the university name in lowercase\n",
        "   Then, followed by .com. Please note that the cc pattern does not apply to this condition\n",
        "\n",
        "cc -> is the country of origin of the participant, as for the rules:\n",
        "- If the number of words in that country is more than 1 then take the abbreviation of that country in lowercase\n",
        "- However, if the number of words is only 1 then take the first 3 letters of the country in lowercase"
      ],
      "metadata": {
        "id": "kxaLxfom1qIY"
      }
    },
    {
      "cell_type": "code",
      "source": [
        "def func(col): # returns a string that acts as an email address with a different format depending on the values of the columns in the given row.\n",
        "    first_name_lower = col['first_name'].lower()\n",
        "    last_name_lower = col['last_name'].lower()\n",
        "    institute = ''.join(list(map(lambda word: word[0], col['institute'].lower().split()))) # Abbreviation of company name in lowercase\n",
        "\n",
        "    if 'Universitas' in col['institute']:\n",
        "        if len(col['country'].split()) > 1: # Condition to check whether the number of words from country is more than 1\n",
        "            country = ''.join(list(map(lambda word: word[0], col['country'].lower().split())))\n",
        "        else:\n",
        "            country = col['country'][:3].lower()\n",
        "        return \"%s%s@%s.ac.%s\"%(first_name_lower,last_name_lower,institute,country)\n",
        "\n",
        "    return \"%s%s@%s.com\"%(first_name_lower,last_name_lower,institute)\n",
        "\n",
        "df_participant['email'] = df_participant.apply(func, axis=1)\n",
        "df_participant['email'].head()"
      ],
      "metadata": {
        "colab": {
          "base_uri": "https://localhost:8080/"
        },
        "id": "_LGyjDku1Z3Q",
        "outputId": "aa2b1ad0-55d9-4c3e-af1b-a79a895762c4"
      },
      "execution_count": null,
      "outputs": [
        {
          "output_type": "execute_result",
          "data": {
            "text/plain": [
              "0      citranurdiyanti@upm.com\n",
              "1        arissetiawan@ud.ac.ku\n",
              "2    corneliahandayani@uhp.com\n",
              "3          solehrajasa@pty.com\n",
              "4           viviastuti@phr.com\n",
              "Name: email, dtype: object"
            ]
          },
          "metadata": {},
          "execution_count": 212
        }
      ]
    },
    {
      "cell_type": "markdown",
      "source": [
        "##Transform Part VII - Date of Birth\n",
        "Changing the format from object type to datetime (YYYY-MM-DD)"
      ],
      "metadata": {
        "id": "a20ocLde7Iru"
      }
    },
    {
      "cell_type": "code",
      "source": [
        "df_participant['birth_date']"
      ],
      "metadata": {
        "colab": {
          "base_uri": "https://localhost:8080/"
        },
        "id": "uxRFuH2W7eiL",
        "outputId": "6be912a9-2567-43cf-e78c-7928920461e9"
      },
      "execution_count": 29,
      "outputs": [
        {
          "output_type": "execute_result",
          "data": {
            "text/plain": [
              "0       05 Feb 1991\n",
              "1       11 Jan 1993\n",
              "2       31 Jul 1993\n",
              "3       04 Nov 1991\n",
              "4       22 Jan 2003\n",
              "           ...     \n",
              "4995    27 Apr 2000\n",
              "4996    06 Mar 1996\n",
              "4997    14 Feb 2003\n",
              "4998    22 Aug 1994\n",
              "4999    09 Feb 2002\n",
              "Name: birth_date, Length: 5000, dtype: object"
            ]
          },
          "metadata": {},
          "execution_count": 29
        }
      ]
    },
    {
      "cell_type": "code",
      "source": [
        "df_participant['birth_date'] = pd.to_datetime(df_participant['birth_date'], format='%d %b %Y')\n",
        "df_participant['birth_date']"
      ],
      "metadata": {
        "colab": {
          "base_uri": "https://localhost:8080/"
        },
        "id": "qbLQGRJJ7C_l",
        "outputId": "b5bc039e-5d64-4fbe-ffab-8b77f7bd4027"
      },
      "execution_count": 31,
      "outputs": [
        {
          "output_type": "execute_result",
          "data": {
            "text/plain": [
              "0      1991-02-05\n",
              "1      1993-01-11\n",
              "2      1993-07-31\n",
              "3      1991-11-04\n",
              "4      2003-01-22\n",
              "          ...    \n",
              "4995   2000-04-27\n",
              "4996   1996-03-06\n",
              "4997   2003-02-14\n",
              "4998   1994-08-22\n",
              "4999   2002-02-09\n",
              "Name: birth_date, Length: 5000, dtype: datetime64[ns]"
            ]
          },
          "metadata": {},
          "execution_count": 31
        }
      ]
    },
    {
      "cell_type": "markdown",
      "source": [
        "##Transform Part VII - Competition List Date\n",
        "change data type float to datetime (YYYY-MM-DD HH:mm:ss)"
      ],
      "metadata": {
        "id": "Z11mUC_R9_uF"
      }
    },
    {
      "cell_type": "code",
      "source": [
        "df_participant['register_time']"
      ],
      "metadata": {
        "colab": {
          "base_uri": "https://localhost:8080/"
        },
        "id": "IWAvRiqnABci",
        "outputId": "1aa84368-b451-40d2-ff31-8eda22c125c8"
      },
      "execution_count": 33,
      "outputs": [
        {
          "output_type": "execute_result",
          "data": {
            "text/plain": [
              "0       1.617634e+09\n",
              "1       1.617634e+09\n",
              "2       1.617634e+09\n",
              "3       1.617634e+09\n",
              "4       1.617634e+09\n",
              "            ...     \n",
              "4995    1.617634e+09\n",
              "4996    1.617634e+09\n",
              "4997    1.617634e+09\n",
              "4998    1.617634e+09\n",
              "4999    1.617634e+09\n",
              "Name: register_time, Length: 5000, dtype: float64"
            ]
          },
          "metadata": {},
          "execution_count": 33
        }
      ]
    },
    {
      "cell_type": "code",
      "source": [
        "df_participant['register_at'] = pd.to_datetime(df_participant['register_time'], unit='s',)\n",
        "df_participant['register_at']"
      ],
      "metadata": {
        "colab": {
          "base_uri": "https://localhost:8080/"
        },
        "id": "h9UyCMos-BOM",
        "outputId": "dbbd3dbf-cea8-4baa-8033-b15d32188398"
      },
      "execution_count": 34,
      "outputs": [
        {
          "output_type": "execute_result",
          "data": {
            "text/plain": [
              "0      2021-04-05 14:47:26\n",
              "1      2021-04-05 14:46:58\n",
              "2      2021-04-05 14:47:15\n",
              "3      2021-04-05 14:47:14\n",
              "4      2021-04-05 14:46:50\n",
              "               ...        \n",
              "4995   2021-04-05 14:46:16\n",
              "4996   2021-04-05 14:46:48\n",
              "4997   2021-04-05 14:46:06\n",
              "4998   2021-04-05 14:46:45\n",
              "4999   2021-04-05 14:46:51\n",
              "Name: register_at, Length: 5000, dtype: datetime64[ns]"
            ]
          },
          "metadata": {},
          "execution_count": 34
        }
      ]
    },
    {
      "cell_type": "markdown",
      "source": [
        "# Load"
      ],
      "metadata": {
        "id": "-2mPq1OINE-U"
      }
    },
    {
      "cell_type": "code",
      "source": [
        "df_participant.head()"
      ],
      "metadata": {
        "colab": {
          "base_uri": "https://localhost:8080/",
          "height": 443
        },
        "id": "r8QPdnidkxZ5",
        "outputId": "b9e3909a-4601-4d12-fbae-e37955fcc99a"
      },
      "execution_count": 35,
      "outputs": [
        {
          "output_type": "execute_result",
          "data": {
            "text/plain": [
              "                         participant_id first_name   last_name birth_date  \\\n",
              "0  bd9b6f88-b84f-4c4d-90f8-b67fe2f1a29a      Citra  Nurdiyanti 1991-02-05   \n",
              "1  7dfe3391-6f40-47b6-b4db-0c76ebaf5fc3       Aris    Setiawan 1993-01-11   \n",
              "2  19582d7f-b824-4fe5-a517-d5bf573fc768   Cornelia   Handayani 1993-07-31   \n",
              "3  aeb6d817-25f3-4867-8a74-8d92e0a0f633      Soleh      Rajasa 1991-11-04   \n",
              "4  1fdabdd9-5444-4c97-87b2-fe8833ad0d27       Vivi      Astuti 2003-01-22   \n",
              "\n",
              "                                             address        phone_number  \\\n",
              "0           Gg. Monginsidi No. 08\\nMedan, Aceh 80734     (0151) 081 2706   \n",
              "1     Gg. Rajawali Timur No. 7\\nPrabumulih, MA 09434  +62 (036) 461 7027   \n",
              "2             Jalan Kebonjati No. 0\\nAmbon, SS 57739        089 833 6695   \n",
              "3    Jl. Yos Sudarso No. 109\\nLubuklinggau, SR 76156  +62 (418) 329-4756   \n",
              "4  Jalan Gardujati No. 53\\nKediri, Sulawesi Tenga...          0812511835   \n",
              "\n",
              "       country                  institute                      occupation  \\\n",
              "0      Georgia       UD Prakasa Mandasari  Business Intelligence Engineer   \n",
              "1  Korea Utara     Universitas Diponegoro               Frontend Engineer   \n",
              "2       Komoro   UD Hardiansyah Puspasari                Business Analyst   \n",
              "3      Eritrea  Perum Tampubolon Yuliarti                 DevOps Engineer   \n",
              "4     Aljazair     PT Hardiansyah Rahimah                    Data Analyst   \n",
              "\n",
              "   register_time postal_code          city  \\\n",
              "0   1.617634e+09       80734         Medan   \n",
              "1   1.617634e+09       09434    Prabumulih   \n",
              "2   1.617634e+09       57739         Ambon   \n",
              "3   1.617634e+09       76156  Lubuklinggau   \n",
              "4   1.617634e+09       70074        Kediri   \n",
              "\n",
              "                         github_profile cleaned_phone_number  \\\n",
              "0    https://github.com/citranurdiyanti          01510812706   \n",
              "1       https://github.com/arissetiawan          00364617027   \n",
              "2  https://github.com/corneliahandayani           0898336695   \n",
              "3        https://github.com/solehrajasa          04183294756   \n",
              "4         https://github.com/viviastuti           0812511835   \n",
              "\n",
              "           team_name         register_at  \n",
              "0     CN-Georgia-UPM 2021-04-05 14:47:26  \n",
              "1  AS-Korea Utara-UD 2021-04-05 14:46:58  \n",
              "2      CH-Komoro-UHP 2021-04-05 14:47:15  \n",
              "3     SR-Eritrea-PTY 2021-04-05 14:47:14  \n",
              "4    VA-Aljazair-PHR 2021-04-05 14:46:50  "
            ],
            "text/html": [
              "\n",
              "  <div id=\"df-d445810f-fd86-44fa-abfe-4535696c61e2\">\n",
              "    <div class=\"colab-df-container\">\n",
              "      <div>\n",
              "<style scoped>\n",
              "    .dataframe tbody tr th:only-of-type {\n",
              "        vertical-align: middle;\n",
              "    }\n",
              "\n",
              "    .dataframe tbody tr th {\n",
              "        vertical-align: top;\n",
              "    }\n",
              "\n",
              "    .dataframe thead th {\n",
              "        text-align: right;\n",
              "    }\n",
              "</style>\n",
              "<table border=\"1\" class=\"dataframe\">\n",
              "  <thead>\n",
              "    <tr style=\"text-align: right;\">\n",
              "      <th></th>\n",
              "      <th>participant_id</th>\n",
              "      <th>first_name</th>\n",
              "      <th>last_name</th>\n",
              "      <th>birth_date</th>\n",
              "      <th>address</th>\n",
              "      <th>phone_number</th>\n",
              "      <th>country</th>\n",
              "      <th>institute</th>\n",
              "      <th>occupation</th>\n",
              "      <th>register_time</th>\n",
              "      <th>postal_code</th>\n",
              "      <th>city</th>\n",
              "      <th>github_profile</th>\n",
              "      <th>cleaned_phone_number</th>\n",
              "      <th>team_name</th>\n",
              "      <th>register_at</th>\n",
              "    </tr>\n",
              "  </thead>\n",
              "  <tbody>\n",
              "    <tr>\n",
              "      <th>0</th>\n",
              "      <td>bd9b6f88-b84f-4c4d-90f8-b67fe2f1a29a</td>\n",
              "      <td>Citra</td>\n",
              "      <td>Nurdiyanti</td>\n",
              "      <td>1991-02-05</td>\n",
              "      <td>Gg. Monginsidi No. 08\\nMedan, Aceh 80734</td>\n",
              "      <td>(0151) 081 2706</td>\n",
              "      <td>Georgia</td>\n",
              "      <td>UD Prakasa Mandasari</td>\n",
              "      <td>Business Intelligence Engineer</td>\n",
              "      <td>1.617634e+09</td>\n",
              "      <td>80734</td>\n",
              "      <td>Medan</td>\n",
              "      <td>https://github.com/citranurdiyanti</td>\n",
              "      <td>01510812706</td>\n",
              "      <td>CN-Georgia-UPM</td>\n",
              "      <td>2021-04-05 14:47:26</td>\n",
              "    </tr>\n",
              "    <tr>\n",
              "      <th>1</th>\n",
              "      <td>7dfe3391-6f40-47b6-b4db-0c76ebaf5fc3</td>\n",
              "      <td>Aris</td>\n",
              "      <td>Setiawan</td>\n",
              "      <td>1993-01-11</td>\n",
              "      <td>Gg. Rajawali Timur No. 7\\nPrabumulih, MA 09434</td>\n",
              "      <td>+62 (036) 461 7027</td>\n",
              "      <td>Korea Utara</td>\n",
              "      <td>Universitas Diponegoro</td>\n",
              "      <td>Frontend Engineer</td>\n",
              "      <td>1.617634e+09</td>\n",
              "      <td>09434</td>\n",
              "      <td>Prabumulih</td>\n",
              "      <td>https://github.com/arissetiawan</td>\n",
              "      <td>00364617027</td>\n",
              "      <td>AS-Korea Utara-UD</td>\n",
              "      <td>2021-04-05 14:46:58</td>\n",
              "    </tr>\n",
              "    <tr>\n",
              "      <th>2</th>\n",
              "      <td>19582d7f-b824-4fe5-a517-d5bf573fc768</td>\n",
              "      <td>Cornelia</td>\n",
              "      <td>Handayani</td>\n",
              "      <td>1993-07-31</td>\n",
              "      <td>Jalan Kebonjati No. 0\\nAmbon, SS 57739</td>\n",
              "      <td>089 833 6695</td>\n",
              "      <td>Komoro</td>\n",
              "      <td>UD Hardiansyah Puspasari</td>\n",
              "      <td>Business Analyst</td>\n",
              "      <td>1.617634e+09</td>\n",
              "      <td>57739</td>\n",
              "      <td>Ambon</td>\n",
              "      <td>https://github.com/corneliahandayani</td>\n",
              "      <td>0898336695</td>\n",
              "      <td>CH-Komoro-UHP</td>\n",
              "      <td>2021-04-05 14:47:15</td>\n",
              "    </tr>\n",
              "    <tr>\n",
              "      <th>3</th>\n",
              "      <td>aeb6d817-25f3-4867-8a74-8d92e0a0f633</td>\n",
              "      <td>Soleh</td>\n",
              "      <td>Rajasa</td>\n",
              "      <td>1991-11-04</td>\n",
              "      <td>Jl. Yos Sudarso No. 109\\nLubuklinggau, SR 76156</td>\n",
              "      <td>+62 (418) 329-4756</td>\n",
              "      <td>Eritrea</td>\n",
              "      <td>Perum Tampubolon Yuliarti</td>\n",
              "      <td>DevOps Engineer</td>\n",
              "      <td>1.617634e+09</td>\n",
              "      <td>76156</td>\n",
              "      <td>Lubuklinggau</td>\n",
              "      <td>https://github.com/solehrajasa</td>\n",
              "      <td>04183294756</td>\n",
              "      <td>SR-Eritrea-PTY</td>\n",
              "      <td>2021-04-05 14:47:14</td>\n",
              "    </tr>\n",
              "    <tr>\n",
              "      <th>4</th>\n",
              "      <td>1fdabdd9-5444-4c97-87b2-fe8833ad0d27</td>\n",
              "      <td>Vivi</td>\n",
              "      <td>Astuti</td>\n",
              "      <td>2003-01-22</td>\n",
              "      <td>Jalan Gardujati No. 53\\nKediri, Sulawesi Tenga...</td>\n",
              "      <td>0812511835</td>\n",
              "      <td>Aljazair</td>\n",
              "      <td>PT Hardiansyah Rahimah</td>\n",
              "      <td>Data Analyst</td>\n",
              "      <td>1.617634e+09</td>\n",
              "      <td>70074</td>\n",
              "      <td>Kediri</td>\n",
              "      <td>https://github.com/viviastuti</td>\n",
              "      <td>0812511835</td>\n",
              "      <td>VA-Aljazair-PHR</td>\n",
              "      <td>2021-04-05 14:46:50</td>\n",
              "    </tr>\n",
              "  </tbody>\n",
              "</table>\n",
              "</div>\n",
              "      <button class=\"colab-df-convert\" onclick=\"convertToInteractive('df-d445810f-fd86-44fa-abfe-4535696c61e2')\"\n",
              "              title=\"Convert this dataframe to an interactive table.\"\n",
              "              style=\"display:none;\">\n",
              "        \n",
              "  <svg xmlns=\"http://www.w3.org/2000/svg\" height=\"24px\"viewBox=\"0 0 24 24\"\n",
              "       width=\"24px\">\n",
              "    <path d=\"M0 0h24v24H0V0z\" fill=\"none\"/>\n",
              "    <path d=\"M18.56 5.44l.94 2.06.94-2.06 2.06-.94-2.06-.94-.94-2.06-.94 2.06-2.06.94zm-11 1L8.5 8.5l.94-2.06 2.06-.94-2.06-.94L8.5 2.5l-.94 2.06-2.06.94zm10 10l.94 2.06.94-2.06 2.06-.94-2.06-.94-.94-2.06-.94 2.06-2.06.94z\"/><path d=\"M17.41 7.96l-1.37-1.37c-.4-.4-.92-.59-1.43-.59-.52 0-1.04.2-1.43.59L10.3 9.45l-7.72 7.72c-.78.78-.78 2.05 0 2.83L4 21.41c.39.39.9.59 1.41.59.51 0 1.02-.2 1.41-.59l7.78-7.78 2.81-2.81c.8-.78.8-2.07 0-2.86zM5.41 20L4 18.59l7.72-7.72 1.47 1.35L5.41 20z\"/>\n",
              "  </svg>\n",
              "      </button>\n",
              "      \n",
              "  <style>\n",
              "    .colab-df-container {\n",
              "      display:flex;\n",
              "      flex-wrap:wrap;\n",
              "      gap: 12px;\n",
              "    }\n",
              "\n",
              "    .colab-df-convert {\n",
              "      background-color: #E8F0FE;\n",
              "      border: none;\n",
              "      border-radius: 50%;\n",
              "      cursor: pointer;\n",
              "      display: none;\n",
              "      fill: #1967D2;\n",
              "      height: 32px;\n",
              "      padding: 0 0 0 0;\n",
              "      width: 32px;\n",
              "    }\n",
              "\n",
              "    .colab-df-convert:hover {\n",
              "      background-color: #E2EBFA;\n",
              "      box-shadow: 0px 1px 2px rgba(60, 64, 67, 0.3), 0px 1px 3px 1px rgba(60, 64, 67, 0.15);\n",
              "      fill: #174EA6;\n",
              "    }\n",
              "\n",
              "    [theme=dark] .colab-df-convert {\n",
              "      background-color: #3B4455;\n",
              "      fill: #D2E3FC;\n",
              "    }\n",
              "\n",
              "    [theme=dark] .colab-df-convert:hover {\n",
              "      background-color: #434B5C;\n",
              "      box-shadow: 0px 1px 3px 1px rgba(0, 0, 0, 0.15);\n",
              "      filter: drop-shadow(0px 1px 2px rgba(0, 0, 0, 0.3));\n",
              "      fill: #FFFFFF;\n",
              "    }\n",
              "  </style>\n",
              "\n",
              "      <script>\n",
              "        const buttonEl =\n",
              "          document.querySelector('#df-d445810f-fd86-44fa-abfe-4535696c61e2 button.colab-df-convert');\n",
              "        buttonEl.style.display =\n",
              "          google.colab.kernel.accessAllowed ? 'block' : 'none';\n",
              "\n",
              "        async function convertToInteractive(key) {\n",
              "          const element = document.querySelector('#df-d445810f-fd86-44fa-abfe-4535696c61e2');\n",
              "          const dataTable =\n",
              "            await google.colab.kernel.invokeFunction('convertToInteractive',\n",
              "                                                     [key], {});\n",
              "          if (!dataTable) return;\n",
              "\n",
              "          const docLinkHtml = 'Like what you see? Visit the ' +\n",
              "            '<a target=\"_blank\" href=https://colab.research.google.com/notebooks/data_table.ipynb>data table notebook</a>'\n",
              "            + ' to learn more about interactive tables.';\n",
              "          element.innerHTML = '';\n",
              "          dataTable['output_type'] = 'display_data';\n",
              "          await google.colab.output.renderOutput(dataTable, element);\n",
              "          const docLink = document.createElement('div');\n",
              "          docLink.innerHTML = docLinkHtml;\n",
              "          element.appendChild(docLink);\n",
              "        }\n",
              "      </script>\n",
              "    </div>\n",
              "  </div>\n",
              "  "
            ]
          },
          "metadata": {},
          "execution_count": 35
        }
      ]
    },
    {
      "cell_type": "code",
      "source": [
        "# save pandas dataframe to csv\n",
        "df_participant.to_csv('newParticipant.csv', index=False)"
      ],
      "metadata": {
        "id": "v0SBao1Eknh6"
      },
      "execution_count": 36,
      "outputs": []
    },
    {
      "cell_type": "markdown",
      "source": [
        "##Conclusion\n",
        "\n",
        "\n",
        "The current dataset is different from the previous extraction process. There are some additional columns that take advantage of other column values.\n",
        "\n",
        "The dataset currently contains the columns:\n",
        "\n",
        "participant_id: ID of the hackathon participant. This column is unique so that participants must have different IDs\n",
        "\n",
        "first_name: participant's first name\n",
        "\n",
        "last_name: participant's last name\n",
        "\n",
        "birth_date: participant's date of birth (formatted to YYYY-MM-DD)\n",
        "\n",
        "address: the participant's residential address\n",
        "\n",
        "phone_number: Participant's cellphone/phone number\n",
        "\n",
        "country: the participant's country of origin\n",
        "\n",
        "institute: current participating institution, can be a company name or university name\n",
        "\n",
        "occupation: the participant's current occupation\n",
        "\n",
        "register_time: the time the participant registers for the hackathon in seconds\n",
        "\n",
        "team_name: the name of the participating team (a combination of first name, last name, country and institution)\n",
        "\n",
        "postal_code: postal code of the participant's address (taken from the address field)\n",
        "\n",
        "city: city of the participant (taken from the address field)\n",
        "\n",
        "github_profile: link to the participant's github profile (a combination of first name and last name)\n",
        "\n",
        "email: participant's email address (a combination of first name, last name, institution and country)\n",
        "\n",
        "cleaned_phone_number: participant's cellphone/phone number (already more in line with the telephone number format)\n",
        "\n",
        "register_at: date and time the participant registers (already in DATETIME format)"
      ],
      "metadata": {
        "id": "R3q2e575APjW"
      }
    }
  ]
}